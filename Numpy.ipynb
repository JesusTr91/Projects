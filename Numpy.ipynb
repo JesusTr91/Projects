{
 "cells": [
  {
   "cell_type": "markdown",
   "id": "missing-gathering",
   "metadata": {},
   "source": [
    "#Numpy"
   ]
  },
  {
   "cell_type": "code",
   "execution_count": 2,
   "id": "extended-cliff",
   "metadata": {},
   "outputs": [
    {
     "name": "stdout",
     "output_type": "stream",
     "text": [
      "Collecting numpy\n",
      "  Downloading numpy-1.19.5-cp39-cp39-win_amd64.whl (13.3 MB)\n",
      "Installing collected packages: numpy\n",
      "Successfully installed numpy-1.19.5\n",
      "Note: you may need to restart the kernel to use updated packages.\n"
     ]
    },
    {
     "name": "stderr",
     "output_type": "stream",
     "text": [
      "WARNING: You are using pip version 20.2.3; however, version 20.3.3 is available.\n",
      "You should consider upgrading via the 'c:\\python\\python39\\python.exe -m pip install --upgrade pip' command.\n"
     ]
    }
   ],
   "source": [
    "pip install numpy"
   ]
  },
  {
   "cell_type": "code",
   "execution_count": 3,
   "id": "streaming-elements",
   "metadata": {},
   "outputs": [],
   "source": [
    "import numpy as np\n",
    "import math"
   ]
  },
  {
   "cell_type": "code",
   "execution_count": 4,
   "id": "perceived-probability",
   "metadata": {},
   "outputs": [
    {
     "name": "stdout",
     "output_type": "stream",
     "text": [
      "[1 2 3]\n"
     ]
    }
   ],
   "source": [
    "a = np.array([1,2,3]) #Creates arrays\n",
    "print(a)"
   ]
  },
  {
   "cell_type": "code",
   "execution_count": 6,
   "id": "million-algorithm",
   "metadata": {},
   "outputs": [
    {
     "name": "stdout",
     "output_type": "stream",
     "text": [
      "[[1 2 3]\n",
      " [4 5 6]]\n"
     ]
    }
   ],
   "source": [
    "b = np.array([[1,2,3], [4,5,6]]) #list of list in an array\n",
    "print(b)"
   ]
  },
  {
   "cell_type": "code",
   "execution_count": 7,
   "id": "boxed-undergraduate",
   "metadata": {},
   "outputs": [
    {
     "data": {
      "text/plain": [
       "(2, 3)"
      ]
     },
     "execution_count": 7,
     "metadata": {},
     "output_type": "execute_result"
    }
   ],
   "source": [
    "b.shape #check dimensions"
   ]
  },
  {
   "cell_type": "code",
   "execution_count": 9,
   "id": "discrete-offering",
   "metadata": {},
   "outputs": [
    {
     "data": {
      "text/plain": [
       "dtype('int32')"
      ]
     },
     "execution_count": 9,
     "metadata": {},
     "output_type": "execute_result"
    }
   ],
   "source": [
    "a.dtype #checks type"
   ]
  },
  {
   "cell_type": "code",
   "execution_count": 13,
   "id": "piano-occasions",
   "metadata": {},
   "outputs": [
    {
     "data": {
      "text/plain": [
       "'float64'"
      ]
     },
     "execution_count": 13,
     "metadata": {},
     "output_type": "execute_result"
    }
   ],
   "source": [
    "c = np.array([2.2, 1.5, 1.1]) #Output just the name type\n",
    "c.dtype.name"
   ]
  },
  {
   "cell_type": "code",
   "execution_count": 16,
   "id": "ignored-regression",
   "metadata": {},
   "outputs": [
    {
     "name": "stdout",
     "output_type": "stream",
     "text": [
      "[[0. 0. 0.]\n",
      " [0. 0. 0.]]\n",
      "[[1. 1. 1. 1.]\n",
      " [1. 1. 1. 1.]]\n"
     ]
    }
   ],
   "source": [
    "d = np. zeros((2,3)) #Creates arrays with zeros or ones\n",
    "e = np.ones((2,4))\n",
    "print(d)\n",
    "print(e)"
   ]
  },
  {
   "cell_type": "code",
   "execution_count": 17,
   "id": "hidden-chinese",
   "metadata": {},
   "outputs": [
    {
     "data": {
      "text/plain": [
       "array([[0.45002883, 0.47244688, 0.57044389],\n",
       "       [0.86185726, 0.38114903, 0.64834949]])"
      ]
     },
     "execution_count": 17,
     "metadata": {},
     "output_type": "execute_result"
    }
   ],
   "source": [
    "np.random.rand(2,3) #random numbers"
   ]
  },
  {
   "cell_type": "code",
   "execution_count": 19,
   "id": "revised-professor",
   "metadata": {},
   "outputs": [
    {
     "data": {
      "text/plain": [
       "array([10, 12, 14, 16, 18, 20, 22, 24, 26, 28, 30, 32, 34, 36, 38])"
      ]
     },
     "execution_count": 19,
     "metadata": {},
     "output_type": "execute_result"
    }
   ],
   "source": [
    "f = np.arange(10,40,2) #arrays from 10 to 40 every 2"
   ]
  },
  {
   "cell_type": "code",
   "execution_count": 20,
   "id": "skilled-halifax",
   "metadata": {},
   "outputs": [
    {
     "data": {
      "text/plain": [
       "array([0.        , 0.14285714, 0.28571429, 0.42857143, 0.57142857,\n",
       "       0.71428571, 0.85714286, 1.        , 1.14285714, 1.28571429,\n",
       "       1.42857143, 1.57142857, 1.71428571, 1.85714286, 2.        ])"
      ]
     },
     "execution_count": 20,
     "metadata": {},
     "output_type": "execute_result"
    }
   ],
   "source": [
    "np.linspace(0,2,15) #Gets 15 numbers within 0 and 2"
   ]
  },
  {
   "cell_type": "markdown",
   "id": "organized-guidance",
   "metadata": {},
   "source": [
    "#Array Operations"
   ]
  },
  {
   "cell_type": "code",
   "execution_count": 22,
   "id": "illegal-estonia",
   "metadata": {},
   "outputs": [
    {
     "name": "stdout",
     "output_type": "stream",
     "text": [
      "[ 9 18 27 36]\n",
      "[ 10  40  90 160]\n"
     ]
    }
   ],
   "source": [
    "a = np.array([10, 20, 30, 40])\n",
    "b = np.array([1,2,3,4])\n",
    "\n",
    "c = a -b\n",
    "print(c)\n",
    "\n",
    "d= a *b\n",
    "print(d)"
   ]
  },
  {
   "cell_type": "code",
   "execution_count": 25,
   "id": "confirmed-hazard",
   "metadata": {},
   "outputs": [
    {
     "data": {
      "text/plain": [
       "array([-22.77777778, -17.22222222, -11.66666667,  -6.11111111,\n",
       "        -0.55555556,   5.        ,  10.55555556,  16.11111111,\n",
       "        21.66666667])"
      ]
     },
     "execution_count": 25,
     "metadata": {},
     "output_type": "execute_result"
    }
   ],
   "source": [
    "farenheit = np.array([-10, 0, 10, 20, 30, 40, 50, 60, 70])\n",
    "\n",
    "celcius = (farenheit - 31) * (5/9)\n",
    "celcius"
   ]
  },
  {
   "cell_type": "code",
   "execution_count": 26,
   "id": "combined-charlotte",
   "metadata": {},
   "outputs": [
    {
     "data": {
      "text/plain": [
       "array([False, False, False, False, False,  True,  True,  True,  True])"
      ]
     },
     "execution_count": 26,
     "metadata": {},
     "output_type": "execute_result"
    }
   ],
   "source": [
    "celcius > 0 #Gets True if its higher than 0"
   ]
  },
  {
   "cell_type": "code",
   "execution_count": 28,
   "id": "rural-seafood",
   "metadata": {},
   "outputs": [
    {
     "data": {
      "text/plain": [
       "array([False, False, False, False, False,  True, False, False, False])"
      ]
     },
     "execution_count": 28,
     "metadata": {},
     "output_type": "execute_result"
    }
   ],
   "source": [
    "celcius%5 == 0"
   ]
  },
  {
   "cell_type": "code",
   "execution_count": 31,
   "id": "strong-scale",
   "metadata": {},
   "outputs": [
    {
     "name": "stdout",
     "output_type": "stream",
     "text": [
      "[[2 0]\n",
      " [0 4]]\n",
      "[[5 4]\n",
      " [3 4]]\n"
     ]
    }
   ],
   "source": [
    "A = np.array([[1,1], [0,1]])\n",
    "B = np.array([[2,0], [3,4]])\n",
    "print(A*B)\n",
    "print(A@B) #Matrix product"
   ]
  },
  {
   "cell_type": "code",
   "execution_count": 32,
   "id": "atlantic-cliff",
   "metadata": {},
   "outputs": [
    {
     "data": {
      "text/plain": [
       "(2, 2)"
      ]
     },
     "execution_count": 32,
     "metadata": {},
     "output_type": "execute_result"
    }
   ],
   "source": [
    "A.shape"
   ]
  },
  {
   "cell_type": "code",
   "execution_count": 33,
   "id": "champion-capture",
   "metadata": {},
   "outputs": [
    {
     "name": "stdout",
     "output_type": "stream",
     "text": [
      "int32\n",
      "float64\n"
     ]
    }
   ],
   "source": [
    "a1 = np.array([[1,2,3], [4,5,6]])\n",
    "print(a1.dtype)\n",
    "a2 = np.array([[3.4, 2.2, 7.5], [8.5, 2.4, 5.3]])\n",
    "print(a2.dtype)"
   ]
  },
  {
   "cell_type": "code",
   "execution_count": 34,
   "id": "human-trial",
   "metadata": {},
   "outputs": [
    {
     "data": {
      "text/plain": [
       "array([[ 4.4,  4.2, 10.5],\n",
       "       [12.5,  7.4, 11.3]])"
      ]
     },
     "execution_count": 34,
     "metadata": {},
     "output_type": "execute_result"
    }
   ],
   "source": [
    "a3 = a1 + a2\n",
    "a3"
   ]
  },
  {
   "cell_type": "code",
   "execution_count": 36,
   "id": "lined-venture",
   "metadata": {},
   "outputs": [
    {
     "name": "stdout",
     "output_type": "stream",
     "text": [
      "50.3\n",
      "12.5\n",
      "4.2\n",
      "8.383333333333333\n"
     ]
    }
   ],
   "source": [
    "print(a3.sum()) #agreagtion functions\n",
    "print(a3.max())\n",
    "print(a3.min())\n",
    "print(a3.mean())"
   ]
  },
  {
   "cell_type": "code",
   "execution_count": 42,
   "id": "thorough-jason",
   "metadata": {},
   "outputs": [
    {
     "name": "stdout",
     "output_type": "stream",
     "text": [
      "[ 1  2  3  4  5  6  7  8  9 10 11 12 13 14 15]\n",
      "[[ 1  2  3  4  5]\n",
      " [ 6  7  8  9 10]\n",
      " [11 12 13 14 15]]\n"
     ]
    }
   ],
   "source": [
    "b = np.arange(1,16,1)  #reorder arrays\n",
    "print(b)\n",
    "c = b.reshape(3,5)\n",
    "print(c)"
   ]
  },
  {
   "cell_type": "code",
   "execution_count": 2,
   "id": "afraid-diagram",
   "metadata": {},
   "outputs": [
    {
     "data": {
      "text/plain": [
       "4"
      ]
     },
     "execution_count": 2,
     "metadata": {},
     "output_type": "execute_result"
    }
   ],
   "source": [
    "import numpy as np\n",
    "a = np.array([1,2,3,4,5])\n",
    "a[3]"
   ]
  },
  {
   "cell_type": "code",
   "execution_count": 4,
   "id": "packed-leeds",
   "metadata": {},
   "outputs": [
    {
     "data": {
      "text/plain": [
       "4"
      ]
     },
     "execution_count": 4,
     "metadata": {},
     "output_type": "execute_result"
    }
   ],
   "source": [
    "b = np.array([[1,2], [3,4], [5,6]])\n",
    "b[1][1]"
   ]
  },
  {
   "cell_type": "code",
   "execution_count": 5,
   "id": "french-buddy",
   "metadata": {},
   "outputs": [
    {
     "data": {
      "text/plain": [
       "4"
      ]
     },
     "execution_count": 5,
     "metadata": {},
     "output_type": "execute_result"
    }
   ],
   "source": [
    "b[1,1] #both correct wways to index"
   ]
  },
  {
   "cell_type": "code",
   "execution_count": 10,
   "id": "returning-welcome",
   "metadata": {},
   "outputs": [
    {
     "data": {
      "text/plain": [
       "array([2, 4, 6])"
      ]
     },
     "execution_count": 10,
     "metadata": {},
     "output_type": "execute_result"
    }
   ],
   "source": [
    "np.array([b[0,1], b[1,1], b[2,1]]) #Get diferent indexes into a new array"
   ]
  },
  {
   "cell_type": "code",
   "execution_count": 9,
   "id": "resident-soviet",
   "metadata": {},
   "outputs": [
    {
     "name": "stdout",
     "output_type": "stream",
     "text": [
      "[2 4 6]\n"
     ]
    }
   ],
   "source": [
    "print(b[[0,1,2], [1,1,1]]) #alternative way: first list looks for the \"set\", \n",
    "                            #second one search within the set"
   ]
  },
  {
   "cell_type": "code",
   "execution_count": 11,
   "id": "lonely-inclusion",
   "metadata": {},
   "outputs": [
    {
     "data": {
      "text/plain": [
       "array([False, False, False,  True,  True])"
      ]
     },
     "execution_count": 11,
     "metadata": {},
     "output_type": "execute_result"
    }
   ],
   "source": [
    "a > 3"
   ]
  },
  {
   "cell_type": "code",
   "execution_count": 12,
   "id": "approximate-notification",
   "metadata": {},
   "outputs": [
    {
     "name": "stdout",
     "output_type": "stream",
     "text": [
      "[4 5]\n"
     ]
    }
   ],
   "source": [
    "print(a[a > 3]) #Gets the real values of the above"
   ]
  },
  {
   "cell_type": "code",
   "execution_count": 20,
   "id": "global-monday",
   "metadata": {},
   "outputs": [
    {
     "name": "stdout",
     "output_type": "stream",
     "text": [
      "[1 2 3]\n",
      "[4 5 6 7]\n",
      "[6 7 8 9]\n"
     ]
    }
   ],
   "source": [
    "z = np.array([1,2,3,4,5,6,7,8,9])\n",
    "print(z[:3]) #start to index\n",
    "print(z[3:7]) #index to index\n",
    "print(z[5:]) #index to end"
   ]
  },
  {
   "cell_type": "code",
   "execution_count": 20,
   "id": "serial-crossing",
   "metadata": {},
   "outputs": [
    {
     "data": {
      "text/plain": [
       "array([[ 1,  2,  3,  4],\n",
       "       [ 5,  6,  7,  8],\n",
       "       [ 9, 10, 11, 12]])"
      ]
     },
     "execution_count": 20,
     "metadata": {},
     "output_type": "execute_result"
    }
   ],
   "source": [
    "import numpy as np\n",
    "y = np.array([[1,2,3,4], [5,6,7,8], [9,10,11,12]])\n",
    "y"
   ]
  },
  {
   "cell_type": "code",
   "execution_count": 5,
   "id": "baking-recall",
   "metadata": {},
   "outputs": [
    {
     "name": "stdout",
     "output_type": "stream",
     "text": [
      "[ 9 10 11 12]\n",
      "10\n"
     ]
    }
   ],
   "source": [
    "print(y[2])\n",
    "print(y[2,1])"
   ]
  },
  {
   "cell_type": "code",
   "execution_count": 24,
   "id": "primary-rotation",
   "metadata": {},
   "outputs": [
    {
     "name": "stdout",
     "output_type": "stream",
     "text": [
      "[ 2  6 10]\n",
      "1 to 3 for slicing: \n",
      " [[ 2  3]\n",
      " [ 6  7]\n",
      " [10 11]]\n",
      "[[ 2  4]\n",
      " [ 6  8]\n",
      " [10 12]]\n"
     ]
    }
   ],
   "source": [
    "print(y[:, 1]) #Gets all rows of column 1\n",
    "print(\"1 to 3 for slicing: \\n\", y[:, 1:3]) #Gets all rows from colum 1 to 3\n",
    "print(y[:, [1,-1]]) #Select specific columns"
   ]
  },
  {
   "cell_type": "code",
   "execution_count": 33,
   "id": "front-morocco",
   "metadata": {},
   "outputs": [
    {
     "name": "stdout",
     "output_type": "stream",
     "text": [
      "[[ 1  2  3  4]\n",
      " [ 5  6  7  8]\n",
      " [ 9 10 11 12]]\n",
      "2.5\n",
      "8.0\n",
      "7.0\n"
     ]
    }
   ],
   "source": [
    "print(y)\n",
    "print(y[0].mean()) #Gets mean of row one\n",
    "print(y[:,-1].mean()) #gets mean of last column\n",
    "print(y[:, [1,-1]].mean()) #gets the mean between column two and last one"
   ]
  },
  {
   "cell_type": "code",
   "execution_count": 9,
   "id": "american-moment",
   "metadata": {},
   "outputs": [
    {
     "name": "stdout",
     "output_type": "stream",
     "text": [
      "[[2 3]\n",
      " [6 7]]\n",
      "sub array index [0,0] value before change: 2\n"
     ]
    }
   ],
   "source": [
    "sub_array = y[:2, 1:3]\n",
    "print(sub_array)\n",
    "print(\"sub array index [0,0] value before change:\", sub_array[0,0])"
   ]
  },
  {
   "cell_type": "code",
   "execution_count": 11,
   "id": "running-premises",
   "metadata": {},
   "outputs": [
    {
     "name": "stdout",
     "output_type": "stream",
     "text": [
      "sub array index [0,0] value after change: 50\n",
      "original array index [0,1] value after change: 50\n"
     ]
    }
   ],
   "source": [
    "sub_array[0,0] = 50\n",
    "print(\"sub array index [0,0] value after change:\", sub_array[0,0])\n",
    "print(\"original array index [0,1] value after change:\", y[0,1])"
   ]
  },
  {
   "cell_type": "code",
   "execution_count": 34,
   "id": "sixth-arabic",
   "metadata": {},
   "outputs": [
    {
     "ename": "SyntaxError",
     "evalue": "unexpected character after line continuation character (<ipython-input-34-3d96cafce7a5>, line 1)",
     "output_type": "error",
     "traceback": [
      "\u001b[1;36m  File \u001b[1;32m\"<ipython-input-34-3d96cafce7a5>\"\u001b[1;36m, line \u001b[1;32m1\u001b[0m\n\u001b[1;33m    C:\\Users\\Propietario\\Desktop\\Jupyter\\Intro\\Datasets\u001b[0m\n\u001b[1;37m                                                       ^\u001b[0m\n\u001b[1;31mSyntaxError\u001b[0m\u001b[1;31m:\u001b[0m unexpected character after line continuation character\n"
     ]
    }
   ],
   "source": [
    "'C:\\Users\\Propietario\\Desktop\\Jupyter\\Intro\\Datasets\\Admission_Predict.csv'"
   ]
  },
  {
   "cell_type": "code",
   "execution_count": 35,
   "id": "characteristic-malta",
   "metadata": {},
   "outputs": [
    {
     "ename": "SyntaxError",
     "evalue": "(unicode error) 'unicodeescape' codec can't decode bytes in position 2-3: truncated \\UXXXXXXXX escape (<ipython-input-35-64df43fe5842>, line 1)",
     "output_type": "error",
     "traceback": [
      "\u001b[1;36m  File \u001b[1;32m\"<ipython-input-35-64df43fe5842>\"\u001b[1;36m, line \u001b[1;32m1\u001b[0m\n\u001b[1;33m    graduate_admission = np.genfromtxt('C:\\Users\\Propietario\\Desktop\\Jupyter\\Intro\\Datasets\\Admission_Predict.csv', dtype=None, delimiter=',', skip_header=1,\u001b[0m\n\u001b[1;37m                                                                                                                  ^\u001b[0m\n\u001b[1;31mSyntaxError\u001b[0m\u001b[1;31m:\u001b[0m (unicode error) 'unicodeescape' codec can't decode bytes in position 2-3: truncated \\UXXXXXXXX escape\n"
     ]
    }
   ],
   "source": [
    "graduate_admission = np.genfromtxt('C:\\Users\\Propietario\\Desktop\\Jupyter\\Intro\\Datasets\\Admission_Predict.csv', dtype=None, delimiter=',', skip_header=1,\n",
    "                                   names=('Serial No','GRE Score', 'TOEFL Score', 'University Rating', 'SOP',\n",
    "                                          'LOR','CGPA','Research', 'Chance of Admit'))\n",
    "graduate_admission"
   ]
  },
  {
   "cell_type": "code",
   "execution_count": null,
   "id": "sorted-recipe",
   "metadata": {},
   "outputs": [],
   "source": []
  }
 ],
 "metadata": {
  "kernelspec": {
   "display_name": "Python 3",
   "language": "python",
   "name": "python3"
  },
  "language_info": {
   "codemirror_mode": {
    "name": "ipython",
    "version": 3
   },
   "file_extension": ".py",
   "mimetype": "text/x-python",
   "name": "python",
   "nbconvert_exporter": "python",
   "pygments_lexer": "ipython3",
   "version": "3.9.0"
  }
 },
 "nbformat": 4,
 "nbformat_minor": 5
}
